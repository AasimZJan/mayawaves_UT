{
 "cells": [
  {
   "cell_type": "markdown",
   "metadata": {},
   "source": [
    "# Catalog Utils"
   ]
  },
  {
   "cell_type": "markdown",
   "metadata": {},
   "source": [
    "Use catalogutils to interact with the MAYA catalog of numerical relativity waveforms (https://cgp.ph.utexas.edu/waveform). Use this to obtain the parameters (such as mass ratio, spins, etc) for simulations, search for simulations with given parameters, plot parameters, or download waveforms. "
   ]
  },
  {
   "cell_type": "code",
   "execution_count": 1,
   "metadata": {},
   "outputs": [],
   "source": [
    "from mayawaves.utils.catalogutils import Catalog\n",
    "from mayawaves.utils.catalogutils import Parameter as p"
   ]
  },
  {
   "cell_type": "markdown",
   "metadata": {},
   "source": [
    "## Create an instance of the Catalog class\n",
    "\n",
    "This updates the metadata for the catalog and creates a Catalog object for you to interact with."
   ]
  },
  {
   "cell_type": "code",
   "execution_count": 2,
   "metadata": {},
   "outputs": [],
   "source": [
    "catalog = Catalog()"
   ]
  },
  {
   "cell_type": "markdown",
   "metadata": {},
   "source": [
    "## Catalog has a property to list all simulations in the maya catalog"
   ]
  },
  {
   "cell_type": "code",
   "execution_count": 3,
   "metadata": {},
   "outputs": [
    {
     "name": "stdout",
     "output_type": "stream",
     "text": [
      "Total number of waveforms in the metadata file is 635. First waveform is GT0001\n",
      "The first ten waveforms are ['GT0001', 'GT0002', 'GT0003', 'GT0004', 'GT0005', 'GT0006', 'GT0007', 'GT0008', 'GT0009', 'GT0010']\n"
     ]
    }
   ],
   "source": [
    "all_simulations = catalog.simulations \n",
    "print(f\"Total number of waveforms in the metadata file is {len(all_simulations)}. First waveform is {all_simulations[0]}\")\n",
    "print(f\"The first ten waveforms are {all_simulations[:10]}\")"
   ]
  },
  {
   "cell_type": "markdown",
   "metadata": {},
   "source": [
    "## The Parameter enum allows you to easily reference specific parameters"
   ]
  },
  {
   "cell_type": "code",
   "execution_count": 4,
   "metadata": {},
   "outputs": [
    {
     "name": "stdout",
     "output_type": "stream",
     "text": [
      "Parameter.NAME\n",
      "Parameter.MASS_1\n",
      "Parameter.MASS_2\n",
      "Parameter.IRREDUCIBLE_MASS_1\n",
      "Parameter.IRREDUCIBLE_MASS_2\n",
      "Parameter.MASS_RATIO\n",
      "Parameter.SYMMETRIC_MASS_RATIO\n",
      "Parameter.DIMENSIONLESS_SPIN_1\n",
      "Parameter.DIMENSIONLESS_SPIN_X_1\n",
      "Parameter.DIMENSIONLESS_SPIN_Y_1\n",
      "Parameter.DIMENSIONLESS_SPIN_Z_1\n",
      "Parameter.DIMENSIONLESS_SPIN_2\n",
      "Parameter.DIMENSIONLESS_SPIN_X_2\n",
      "Parameter.DIMENSIONLESS_SPIN_Y_2\n",
      "Parameter.DIMENSIONLESS_SPIN_Z_2\n",
      "Parameter.CHI_EFF\n",
      "Parameter.CHI_P\n",
      "Parameter.F_LOWER_AT_1MSUN\n",
      "Parameter.SEPARATION\n",
      "Parameter.ECCENTRICITY\n",
      "Parameter.MEAN_ANOMALY\n",
      "Parameter.MERGE_TIME\n",
      "Parameter.MAYA_SIZE_GB\n",
      "Parameter.LVCNR_SIZE_GB\n"
     ]
    }
   ],
   "source": [
    "print(*[(param) for param in p], sep = \"\\n\")"
   ]
  },
  {
   "cell_type": "markdown",
   "metadata": {},
   "source": [
    "## Catalog has properties to grab all nonspinning, aligned spin, or precessing simulations"
   ]
  },
  {
   "cell_type": "code",
   "execution_count": 5,
   "metadata": {},
   "outputs": [
    {
     "name": "stdout",
     "output_type": "stream",
     "text": [
      "Total number of waveforms with no spin: 103. First waveform is GT0370\n"
     ]
    }
   ],
   "source": [
    "nonspinning_simulations = catalog.nonspinning_simulations\n",
    "print(f\"Total number of waveforms with no spin: {len(nonspinning_simulations)}. First waveform is {nonspinning_simulations[0]}\")"
   ]
  },
  {
   "cell_type": "code",
   "execution_count": 6,
   "metadata": {},
   "outputs": [
    {
     "name": "stdout",
     "output_type": "stream",
     "text": [
      "Total number of waveforms with aligned spins: 157. First waveform is GT0355\n"
     ]
    }
   ],
   "source": [
    "aligned_spin_simulations = catalog.aligned_spin_simulations\n",
    "print(f\"Total number of waveforms with aligned spins: {len(aligned_spin_simulations)}. First waveform is {aligned_spin_simulations[0]}\")"
   ]
  },
  {
   "cell_type": "code",
   "execution_count": 7,
   "metadata": {},
   "outputs": [
    {
     "name": "stdout",
     "output_type": "stream",
     "text": [
      "Total number of precessing waveforms: 370. First waveform is GT0001\n"
     ]
    }
   ],
   "source": [
    "precessing_simulations = catalog.precessing_simulations\n",
    "print(f\"Total number of precessing waveforms: {len(precessing_simulations)}. First waveform is {precessing_simulations[0]}\")"
   ]
  },
  {
   "cell_type": "markdown",
   "metadata": {},
   "source": [
    "## Get simulations with a given mass ratio "
   ]
  },
  {
   "cell_type": "code",
   "execution_count": 8,
   "metadata": {},
   "outputs": [
    {
     "name": "stdout",
     "output_type": "stream",
     "text": [
      "Total number of waveforms with q = 2 is 53. First waveform is GT0428\n"
     ]
    }
   ],
   "source": [
    "mass_ratio = 2\n",
    "sims = catalog.get_simulations_with_mass_ratio(mass_ratio = mass_ratio)  \n",
    "print(f\"Total number of waveforms with q = {mass_ratio} is {len(sims)}. First waveform is {sims[0]}\")"
   ]
  },
  {
   "cell_type": "markdown",
   "metadata": {},
   "source": [
    "### You can also enter a tolerance for a parameter, and will receive simulations that are within that tolerance of the requested mass ratio"
   ]
  },
  {
   "cell_type": "code",
   "execution_count": 9,
   "metadata": {},
   "outputs": [
    {
     "name": "stdout",
     "output_type": "stream",
     "text": [
      "Total number of waveforms with q = 2 and tolerance 0.1 is 92. First waveform is GT0376\n"
     ]
    }
   ],
   "source": [
    "mass_ratio = 2\n",
    "tol = 0.1\n",
    "sims = catalog.get_simulations_with_mass_ratio(mass_ratio=mass_ratio, tol=tol)  \n",
    "print(f\"Total number of waveforms with q = {mass_ratio} and tolerance {tol} is {len(sims)}. First waveform is {sims[0]}\")"
   ]
  },
  {
   "cell_type": "markdown",
   "metadata": {},
   "source": [
    "## Get simulations with a given symmetric mass ratio"
   ]
  },
  {
   "cell_type": "code",
   "execution_count": 10,
   "metadata": {},
   "outputs": [
    {
     "name": "stdout",
     "output_type": "stream",
     "text": [
      "Total number of waveforms with eta = 0.23 and tol = 0.005 is 9. First waveform is GT0376\n"
     ]
    }
   ],
   "source": [
    "eta = 0.23\n",
    "tol = 0.005\n",
    "sims = catalog.get_simulations_with_symmetric_mass_ratio(eta=eta, tol=tol)\n",
    "print(f\"Total number of waveforms with eta = {eta} and tol = {tol} is {len(sims)}. First waveform is {sims[0]}\")"
   ]
  },
  {
   "cell_type": "markdown",
   "metadata": {},
   "source": [
    "## Get the all the parameters of a given simulation"
   ]
  },
  {
   "cell_type": "code",
   "execution_count": 11,
   "metadata": {},
   "outputs": [
    {
     "name": "stdout",
     "output_type": "stream",
     "text": [
      "The mass ratio of GT0378 is 2.050005889145129\n"
     ]
    }
   ],
   "source": [
    "simulation_parameters = catalog.get_parameters_for_simulation(\"GT0378\")\n",
    "print(f'The mass ratio of GT0378 is {simulation_parameters[p.MASS_RATIO]}')"
   ]
  },
  {
   "cell_type": "code",
   "execution_count": 12,
   "metadata": {},
   "outputs": [
    {
     "name": "stdout",
     "output_type": "stream",
     "text": [
      "All available parameters of GT0378 are:\n",
      "\n",
      "name: D10_a0.0_q2.05_m103_Qs\n",
      "m1: 0.672130590009755\n",
      "m2: 0.3278676386095844\n",
      "m1_irr: 0.67213059\n",
      "m2_irr: 0.3278676386\n",
      "q: 2.050005889145129\n",
      "eta: 0.220371\n",
      "a1: 1.0775370384725463e-05\n",
      "a1x: -6.189079683097315e-13\n",
      "a1y: -5.31375343569779e-15\n",
      "a1z: 1.0775370384725444e-05\n",
      "a2: 1.5292461249223795e-05\n",
      "a2x: -1.0523082784791894e-11\n",
      "a2y: -1.0845157044129532e-13\n",
      "a2z: 1.5292461249220173e-05\n",
      "chi_eff: 1.2256380923285683e-05\n",
      "chi_p: 4.652204568862241e-12\n",
      "f_lower_at_1MSUN: 1807.5340709236116\n",
      "separation: 9.99995249833483\n",
      "eccentricity: 0.005865368688535364\n",
      "mean_anomaly: -1.0\n",
      "merge_time: 998.6407813\n",
      "maya file size (GB): 0.3597998470067978\n",
      "lvcnr file size (GB): 0.00412185862660408\n"
     ]
    }
   ],
   "source": [
    "simulation_parameter_string = '\\n'.join([f'{par.value}: {value}' for par, value in simulation_parameters.items()])\n",
    "print(f\"All available parameters of GT0378 are:\\n\\n{simulation_parameter_string}\")"
   ]
  },
  {
   "cell_type": "markdown",
   "metadata": {},
   "source": [
    "## Get all simulations with given parameters\n",
    "\n",
    "### This method can be used with any number of parameters. It is better to use non-zero tolerances while searching for waveforms to ensure you get all simulations that fit your desired parameters."
   ]
  },
  {
   "cell_type": "code",
   "execution_count": 13,
   "metadata": {},
   "outputs": [
    {
     "name": "stdout",
     "output_type": "stream",
     "text": [
      "125\n",
      "21\n",
      "27\n"
     ]
    }
   ],
   "source": [
    "simulations = catalog.get_simulations_with_parameters(params = [p.MASS_RATIO, p.DIMENSIONLESS_SPIN_Z_1], values =  [1, 0.5], tol = [0.01, 0.5] )\n",
    "print(len(simulations))\n",
    "\n",
    "simulations = catalog.get_simulations_with_parameters(params = [p.MASS_RATIO, p.DIMENSIONLESS_SPIN_X_1, p.DIMENSIONLESS_SPIN_Y_1, p.DIMENSIONLESS_SPIN_Z_1, p.DIMENSIONLESS_SPIN_X_2, p.DIMENSIONLESS_SPIN_Y_2, p.DIMENSIONLESS_SPIN_Z_2], values =  [1, 0.0, 0.0, 0.6, 0.0, 0.0, 0.6], tol = [0.01, 0.001, 0.001, 0.5, 0.001, 0.001, 0.4999] )\n",
    "print(len(simulations))\n",
    "\n",
    "simulations = catalog.get_simulations_with_parameters(params = [p.MASS_RATIO, p.DIMENSIONLESS_SPIN_2], values =  [1, 0.1], tol = [0.01, 0.1] )\n",
    "print(len(simulations))"
   ]
  },
  {
   "cell_type": "markdown",
   "metadata": {},
   "source": [
    "## Plotting the distribtution of waveform parameters in the catalog"
   ]
  },
  {
   "cell_type": "code",
   "execution_count": 14,
   "metadata": {},
   "outputs": [
    {
     "data": {
      "image/png": "[encoded data removed]",
      "text/plain": [
       "<Figure size 432x288 with 1 Axes>"
      ]
     },
     "metadata": {
      "needs_background": "light"
     },
     "output_type": "display_data"
    },
    {
     "data": {
      "text/plain": [
       "<Figure size 432x288 with 0 Axes>"
      ]
     },
     "metadata": {},
     "output_type": "display_data"
    },
    {
     "data": {
      "image/png": "[encoded data removed]",
      "text/plain": [
       "<Figure size 432x288 with 1 Axes>"
      ]
     },
     "metadata": {
      "needs_background": "light"
     },
     "output_type": "display_data"
    },
    {
     "data": {
      "text/plain": [
       "<Figure size 432x288 with 0 Axes>"
      ]
     },
     "metadata": {},
     "output_type": "display_data"
    },
    {
     "data": {
      "image/png": "[encoded data removed]",
      "text/plain": [
       "<Figure size 432x288 with 1 Axes>"
      ]
     },
     "metadata": {
      "needs_background": "light"
     },
     "output_type": "display_data"
    },
    {
     "name": "stdout",
     "output_type": "stream",
     "text": [
      "Minimum q: 0.9996440633567225, maximum q: 15.07085918507278\n",
      "Minimum chi_eff: -0.8089458636660637, maximum chi_eff: 0.8085713846964644\n"
     ]
    },
    {
     "data": {
      "text/plain": [
       "<Figure size 432x288 with 0 Axes>"
      ]
     },
     "metadata": {},
     "output_type": "display_data"
    }
   ],
   "source": [
    "catalog.plot_catalog_parameters(p.MASS_RATIO, p.CHI_EFF, dpi = 500)"
   ]
  },
  {
   "cell_type": "code",
   "execution_count": 15,
   "metadata": {},
   "outputs": [
    {
     "data": {
      "image/png": "[encoded data removed]",
      "text/plain": [
       "<Figure size 432x288 with 1 Axes>"
      ]
     },
     "metadata": {
      "needs_background": "light"
     },
     "output_type": "display_data"
    },
    {
     "data": {
      "text/plain": [
       "<Figure size 432x288 with 0 Axes>"
      ]
     },
     "metadata": {},
     "output_type": "display_data"
    },
    {
     "data": {
      "image/png": "[encoded data removed]",
      "text/plain": [
       "<Figure size 432x288 with 1 Axes>"
      ]
     },
     "metadata": {
      "needs_background": "light"
     },
     "output_type": "display_data"
    },
    {
     "data": {
      "text/plain": [
       "<Figure size 432x288 with 0 Axes>"
      ]
     },
     "metadata": {},
     "output_type": "display_data"
    },
    {
     "data": {
      "image/png": "[encoded data removed]",
      "text/plain": [
       "<Figure size 432x288 with 1 Axes>"
      ]
     },
     "metadata": {
      "needs_background": "light"
     },
     "output_type": "display_data"
    },
    {
     "name": "stdout",
     "output_type": "stream",
     "text": [
      "Minimum q: 0.9996440633567225, maximum q: 15.07085918507278\n",
      "Minimum chi_p: 4.990315336895653e-18, maximum chi_p: 0.9316840649738882\n"
     ]
    },
    {
     "data": {
      "text/plain": [
       "<Figure size 432x288 with 0 Axes>"
      ]
     },
     "metadata": {},
     "output_type": "display_data"
    }
   ],
   "source": [
    "catalog.plot_catalog_parameters(p.MASS_RATIO, p.CHI_P, dpi = 500, color = \"salmon\")"
   ]
  },
  {
   "cell_type": "markdown",
   "metadata": {},
   "source": [
    "### You can also provide a directory to save the figures in and they will be saved rather than displayed."
   ]
  },
  {
   "cell_type": "code",
   "execution_count": 16,
   "metadata": {},
   "outputs": [
    {
     "name": "stdout",
     "output_type": "stream",
     "text": [
      "Minimum q: 0.9996440633567225, maximum q: 15.07085918507278\n",
      "Minimum a2: 3.8462054439966505e-10, maximum a2: 0.9261967059788215\n"
     ]
    },
    {
     "data": {
      "text/plain": [
       "<Figure size 432x288 with 0 Axes>"
      ]
     },
     "metadata": {},
     "output_type": "display_data"
    },
    {
     "data": {
      "text/plain": [
       "<Figure size 432x288 with 0 Axes>"
      ]
     },
     "metadata": {},
     "output_type": "display_data"
    },
    {
     "data": {
      "text/plain": [
       "<Figure size 432x288 with 0 Axes>"
      ]
     },
     "metadata": {},
     "output_type": "display_data"
    }
   ],
   "source": [
    "catalog.plot_catalog_parameters(p.MASS_RATIO, p.DIMENSIONLESS_SPIN_2, dpi = 500 , color = \"green\", save_path='.')"
   ]
  },
  {
   "cell_type": "markdown",
   "metadata": {},
   "source": [
    "## Downloading waveforms\n",
    "To download waveforms from the Center for Gravitational Physics website, use download_waveforms. Here, we will download GT0898 to the current directory."
   ]
  },
  {
   "cell_type": "code",
   "execution_count": 17,
   "metadata": {
    "scrolled": false
   },
   "outputs": [
    {
     "name": "stdout",
     "output_type": "stream",
     "text": [
      "Total size of requested waveforms is 0.92 GB.\n",
      "Downloading 1 waveforms and saving in ..\n",
      "----------------------------------------------------------\n",
      "Downloading waveform GT0898. This waveform has the following parameters\n",
      "Catalog id: GT0898\n",
      "name                  GW15_D12_q1.2_a0.0_m140\n",
      "m1                    0.5455\n",
      "m2                    0.4545\n",
      "m1_irr                0.5455\n",
      "m2_irr                0.4545\n",
      "q                     1.2000\n",
      "eta                   0.2479\n",
      "a1                    0.0000\n",
      "a1x                   -0.0000\n",
      "a1y                   -0.0000\n",
      "a1z                   0.0000\n",
      "a2                    0.0000\n",
      "a2x                   -0.0000\n",
      "a2y                   -0.0000\n",
      "a2z                   0.0000\n",
      "chi_eff               0.0000\n",
      "chi_p                 0.0000\n",
      "f_lower_at_1MSUN      1445.3053\n",
      "separation            12.0000\n",
      "eccentricity          0.0021\n",
      "mean_anomaly          3.2766\n",
      "merge_time            1891.1250\n",
      "maya file size (GB)   0.9177\n",
      "lvcnr file size (GB)  0.0084\n"
     ]
    }
   ],
   "source": [
    "catalog.download_waveforms(['GT0898'], save_wf_path = '.')"
   ]
  },
  {
   "cell_type": "markdown",
   "metadata": {},
   "source": [
    "### Waveforms can also be downloaded in the lvc-nr format (https://arxiv.org/abs/1703.01076)"
   ]
  },
  {
   "cell_type": "code",
   "execution_count": 18,
   "metadata": {},
   "outputs": [
    {
     "name": "stdout",
     "output_type": "stream",
     "text": [
      "Total size of requested waveforms is 0.01 GB.\n",
      "Downloading 1 waveforms and saving in ..\n",
      "----------------------------------------------------------\n",
      "Downloading waveform GT0898. This waveform has the following parameters\n",
      "Catalog id: GT0898\n",
      "name                  GW15_D12_q1.2_a0.0_m140\n",
      "m1                    0.5455\n",
      "m2                    0.4545\n",
      "m1_irr                0.5455\n",
      "m2_irr                0.4545\n",
      "q                     1.2000\n",
      "eta                   0.2479\n",
      "a1                    0.0000\n",
      "a1x                   -0.0000\n",
      "a1y                   -0.0000\n",
      "a1z                   0.0000\n",
      "a2                    0.0000\n",
      "a2x                   -0.0000\n",
      "a2y                   -0.0000\n",
      "a2z                   0.0000\n",
      "chi_eff               0.0000\n",
      "chi_p                 0.0000\n",
      "f_lower_at_1MSUN      1445.3053\n",
      "separation            12.0000\n",
      "eccentricity          0.0021\n",
      "mean_anomaly          3.2766\n",
      "merge_time            1891.1250\n",
      "maya file size (GB)   0.9177\n",
      "lvcnr file size (GB)  0.0084\n"
     ]
    }
   ],
   "source": [
    "catalog.download_waveforms(['GT0898'], save_wf_path='.', lvcnr_format=True)"
   ]
  }
 ],
 "metadata": {
  "kernelspec": {
   "display_name": "mayawaves_dev",
   "language": "python",
   "name": "mayawaves_dev"
  },
  "language_info": {
   "codemirror_mode": {
    "name": "ipython",
    "version": 3
   },
   "file_extension": ".py",
   "mimetype": "text/x-python",
   "name": "python",
   "nbconvert_exporter": "python",
   "pygments_lexer": "ipython3",
   "version": "3.8.15"
  },
  "vscode": {
   "interpreter": {
    "hash": "9ee898cfcefe93ea644ca7ed734d8d550cc1b147ea2aba333482e5508484ebd4"
   }
  }
 },
 "nbformat": 4,
 "nbformat_minor": 2
}
